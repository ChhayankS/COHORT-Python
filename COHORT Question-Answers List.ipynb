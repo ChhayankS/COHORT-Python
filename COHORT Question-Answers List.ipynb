{
 "cells": [
  {
   "cell_type": "code",
   "execution_count": 2,
   "id": "a8bb8192",
   "metadata": {},
   "outputs": [
    {
     "data": {
      "text/plain": [
       "['four', 'five']"
      ]
     },
     "execution_count": 2,
     "metadata": {},
     "output_type": "execute_result"
    }
   ],
   "source": [
    "#Extract four and five from this list\n",
    "\n",
    "#List form\n",
    "list = ['one','two','three','four','five']\n",
    "list[-2:]"
   ]
  },
  {
   "cell_type": "code",
   "execution_count": 6,
   "id": "daaccf5d",
   "metadata": {},
   "outputs": [
    {
     "name": "stdout",
     "output_type": "stream",
     "text": [
      "['four' 'five']\n"
     ]
    }
   ],
   "source": [
    "#Array form\n",
    "import numpy as np\n",
    "arr = np.array(['one','two','three','four','five'])\n",
    "\n",
    "# Extract the last two elements \n",
    "last_two = arr[-2:]\n",
    "print(last_two)"
   ]
  },
  {
   "cell_type": "code",
   "execution_count": null,
   "id": "57cdfd46",
   "metadata": {},
   "outputs": [],
   "source": []
  },
  {
   "cell_type": "code",
   "execution_count": null,
   "id": "abe27cc2",
   "metadata": {},
   "outputs": [],
   "source": []
  },
  {
   "cell_type": "code",
   "execution_count": 9,
   "id": "d34f39a4",
   "metadata": {},
   "outputs": [
    {
     "name": "stdout",
     "output_type": "stream",
     "text": [
      "['five', 'four', 'three', 'two', 'one']\n"
     ]
    }
   ],
   "source": [
    "#Reverse the list\n",
    "list = ['one', 'two', 'three', 'four', 'five']\n",
    "\n",
    "# Reverse the list\n",
    "reversed_list = list[::-1]\n",
    "print(reversed_list)"
   ]
  },
  {
   "cell_type": "code",
   "execution_count": 11,
   "id": "58c1e400",
   "metadata": {},
   "outputs": [
    {
     "name": "stdout",
     "output_type": "stream",
     "text": [
      "['five' 'four' 'three' 'two' 'one']\n"
     ]
    }
   ],
   "source": [
    "#Array form\n",
    "# Reverse the array\n",
    "reversed_arr = arr[::-1]\n",
    "print(reversed_arr)"
   ]
  },
  {
   "cell_type": "code",
   "execution_count": null,
   "id": "463fc2a6",
   "metadata": {},
   "outputs": [],
   "source": []
  },
  {
   "cell_type": "code",
   "execution_count": null,
   "id": "4cbfb85c",
   "metadata": {},
   "outputs": [],
   "source": []
  },
  {
   "cell_type": "code",
   "execution_count": 21,
   "id": "d8bc6b28",
   "metadata": {},
   "outputs": [
    {
     "name": "stdout",
     "output_type": "stream",
     "text": [
      "None\n"
     ]
    }
   ],
   "source": [
    "#Sort the list\n",
    "list1 = ['4','2','3','1','6','5']\n",
    "sorted_list = list1.sort()\n",
    "print(sorted_list)"
   ]
  },
  {
   "cell_type": "code",
   "execution_count": 24,
   "id": "96f3af22",
   "metadata": {},
   "outputs": [
    {
     "data": {
      "text/plain": [
       "['1', '2', '3', '4', '5', '6']"
      ]
     },
     "execution_count": 24,
     "metadata": {},
     "output_type": "execute_result"
    }
   ],
   "source": [
    "list1.sort()\n",
    "list1"
   ]
  },
  {
   "cell_type": "code",
   "execution_count": 27,
   "id": "3d774ad8",
   "metadata": {},
   "outputs": [
    {
     "name": "stdout",
     "output_type": "stream",
     "text": [
      "['1' '2' '3' '4' '5' '6']\n"
     ]
    }
   ],
   "source": [
    "#Array form\n",
    "list2 = ['4','2','3','1','6','5']\n",
    "arr = np.array(list2)\n",
    "\n",
    "# Sort the array\n",
    "sorted_arr = np.sort(arr)\n",
    "print(sorted_arr)"
   ]
  },
  {
   "cell_type": "code",
   "execution_count": null,
   "id": "5b38304f",
   "metadata": {},
   "outputs": [],
   "source": []
  },
  {
   "cell_type": "code",
   "execution_count": null,
   "id": "3d50c6cd",
   "metadata": {},
   "outputs": [],
   "source": []
  },
  {
   "cell_type": "code",
   "execution_count": 58,
   "id": "67bdef77",
   "metadata": {},
   "outputs": [],
   "source": [
    "#Sort it without changing the actual list\n",
    "list2=['1009', '212', '33567', '47648', '5544', '6586','88','77777']\n",
    "b = sorted(list2)"
   ]
  },
  {
   "cell_type": "code",
   "execution_count": 59,
   "id": "764fceb6",
   "metadata": {},
   "outputs": [
    {
     "data": {
      "text/plain": [
       "['1009', '212', '33567', '47648', '5544', '6586', '77777', '88']"
      ]
     },
     "execution_count": 59,
     "metadata": {},
     "output_type": "execute_result"
    }
   ],
   "source": [
    "sorted(list2)"
   ]
  },
  {
   "cell_type": "code",
   "execution_count": 60,
   "id": "2d68d0d8",
   "metadata": {},
   "outputs": [
    {
     "data": {
      "text/plain": [
       "['1009', '212', '33567', '47648', '5544', '6586', '88', '77777']"
      ]
     },
     "execution_count": 60,
     "metadata": {},
     "output_type": "execute_result"
    }
   ],
   "source": [
    "list2"
   ]
  },
  {
   "cell_type": "code",
   "execution_count": 64,
   "id": "736fb388",
   "metadata": {},
   "outputs": [
    {
     "name": "stdout",
     "output_type": "stream",
     "text": [
      "['1009' '212' '33567' '47648' '5544' '6586' '77777' '88']\n"
     ]
    }
   ],
   "source": [
    "#Array form\n",
    "arr = np.array(list2)\n",
    "sorted_arr = np.sort(arr)\n",
    "print(sorted_arr)"
   ]
  },
  {
   "cell_type": "code",
   "execution_count": 67,
   "id": "8cfe9110",
   "metadata": {},
   "outputs": [
    {
     "name": "stdout",
     "output_type": "stream",
     "text": [
      "['1009' '212' '33567' '47648' '5544' '6586' '88' '77777']\n"
     ]
    }
   ],
   "source": [
    "print(arr)"
   ]
  },
  {
   "cell_type": "code",
   "execution_count": null,
   "id": "28f826c3",
   "metadata": {},
   "outputs": [],
   "source": []
  },
  {
   "cell_type": "code",
   "execution_count": null,
   "id": "2a94f153",
   "metadata": {},
   "outputs": [],
   "source": []
  },
  {
   "cell_type": "code",
   "execution_count": 69,
   "id": "b31f48a0",
   "metadata": {},
   "outputs": [
    {
     "name": "stdout",
     "output_type": "stream",
     "text": [
      "[0, 1, 2, 3, 4, 5, 6, -16, 2, 6, 9, 13, 43, 0, 0, 0, 0, 0, 0, -3, -2, 0, 1, 7, 8]\n"
     ]
    }
   ],
   "source": [
    "#sort and combine given lists\n",
    "a=[1,2,3,4,5,6,0] \n",
    "b=[6,43,2,-16,9,13] \n",
    "c=[0,0,0,0,0,0] \n",
    "d=[1,0,8,-3,7,-2]\n",
    "a.sort()\n",
    "b.sort()\n",
    "c.sort()\n",
    "d.sort()\n",
    "e = [*a, *b, *c, *d]\n",
    "print(e)"
   ]
  },
  {
   "cell_type": "code",
   "execution_count": 70,
   "id": "9766985c",
   "metadata": {},
   "outputs": [
    {
     "name": "stdout",
     "output_type": "stream",
     "text": [
      "[  0   1   2   3   4   5   6 -16   2   6   9  13  43   0   0   0   0   0\n",
      "   0  -3  -2   0   1   7   8]\n"
     ]
    }
   ],
   "source": [
    "#Array form\n",
    "a = [1, 2, 3, 4, 5, 6, 0] \n",
    "b = [6, 43, 2, -16, 9, 13] \n",
    "c = [0, 0, 0, 0, 0, 0] \n",
    "d = [1, 0, 8, -3, 7, -2]\n",
    "\n",
    "a.sort()\n",
    "b.sort()\n",
    "c.sort()\n",
    "d.sort()\n",
    "\n",
    "arr_a = np.array(a)\n",
    "arr_b = np.array(b)\n",
    "arr_c = np.array(c)\n",
    "arr_d = np.array(d)\n",
    "\n",
    "combined = np.concatenate((arr_a, arr_b, arr_c, arr_d))\n",
    "\n",
    "print(combined)"
   ]
  },
  {
   "cell_type": "code",
   "execution_count": null,
   "id": "f238591f",
   "metadata": {},
   "outputs": [],
   "source": []
  },
  {
   "cell_type": "code",
   "execution_count": null,
   "id": "23d29ec7",
   "metadata": {},
   "outputs": [],
   "source": []
  },
  {
   "cell_type": "code",
   "execution_count": 75,
   "id": "1f88ea9c",
   "metadata": {},
   "outputs": [
    {
     "data": {
      "text/plain": [
       "'creator and innovator'"
      ]
     },
     "execution_count": 75,
     "metadata": {},
     "output_type": "execute_result"
    }
   ],
   "source": [
    "#Extract creator and innovator \n",
    "text1 = \"i am creator and innovator, i am cohort-ian\"\n",
    "result = text1[5:26]\n",
    "result"
   ]
  },
  {
   "cell_type": "code",
   "execution_count": 82,
   "id": "8c346782",
   "metadata": {},
   "outputs": [
    {
     "name": "stdout",
     "output_type": "stream",
     "text": [
      "['creator and innovator']\n"
     ]
    }
   ],
   "source": [
    "#Array form\n",
    "text_array = np.array([\"i am creator and innovator, i am cohort-ian\"])\n",
    "\n",
    "extracted_phrase = text_array[0][5:26]  \n",
    "\n",
    "extracted_array = np.array([extracted_phrase])\n",
    "\n",
    "print(extracted_array)"
   ]
  },
  {
   "cell_type": "code",
   "execution_count": null,
   "id": "ee03c5b0",
   "metadata": {},
   "outputs": [],
   "source": []
  },
  {
   "cell_type": "code",
   "execution_count": null,
   "id": "5901c3bd",
   "metadata": {},
   "outputs": [],
   "source": []
  },
  {
   "cell_type": "code",
   "execution_count": 96,
   "id": "84338843",
   "metadata": {},
   "outputs": [],
   "source": [
    "#desired output\n",
    "#list1=[[1,3,5,7,9,11,13,15,17,19],[2,4,6,8,10,12,14,16,18,20]]\n",
    "#use pack and unpack logic\n",
    "\n",
    "list=[1,2,3,4,5,6,7,8,9,10,11,12,13,14,15,16,17,18,19,20]\n",
    "\n",
    "list2 = [list[::2],list[1::1]]\n",
    "list1=[[1,3,5,7,9,11,13,15,17,19],[2,4,6,8,10,12,14,16,18,20]]"
   ]
  },
  {
   "cell_type": "code",
   "execution_count": 97,
   "id": "a4ea2097",
   "metadata": {},
   "outputs": [
    {
     "data": {
      "text/plain": [
       "[[1, 3, 5, 7, 9, 11, 13, 15, 17, 19],\n",
       " [2, 3, 4, 5, 6, 7, 8, 9, 10, 11, 12, 13, 14, 15, 16, 17, 18, 19, 20]]"
      ]
     },
     "execution_count": 97,
     "metadata": {},
     "output_type": "execute_result"
    }
   ],
   "source": [
    "list2"
   ]
  },
  {
   "cell_type": "code",
   "execution_count": 106,
   "id": "870cbac5",
   "metadata": {},
   "outputs": [
    {
     "name": "stdout",
     "output_type": "stream",
     "text": [
      "[[1, 3, 5, 7, 9, 11, 13, 15, 17, 19], [2, 4, 6, 8, 10, 12, 14, 16, 18, 20]]\n"
     ]
    }
   ],
   "source": [
    "#Array form\n",
    "array = np.array(list)\n",
    "\n",
    "odd, even = array[::2], array[1::2]\n",
    "\n",
    "list1 = [odd.tolist(), even.tolist()]  \n",
    "\n",
    "print(list1)\n"
   ]
  },
  {
   "cell_type": "code",
   "execution_count": null,
   "id": "eda5b593",
   "metadata": {},
   "outputs": [],
   "source": []
  },
  {
   "cell_type": "code",
   "execution_count": null,
   "id": "f198b322",
   "metadata": {},
   "outputs": [],
   "source": []
  },
  {
   "cell_type": "code",
   "execution_count": 116,
   "id": "38c633e8",
   "metadata": {},
   "outputs": [
    {
     "name": "stdout",
     "output_type": "stream",
     "text": [
      "[[[0, 0, 0, 0]], [[0, 1, 5, 13, 45, 92]], [17, 2, 93, 4, 50, 96]]\n"
     ]
    }
   ],
   "source": [
    "# Desired output\n",
    "# list3 = [[[0,0,0,0],[0,1,5,13,45,92]],[17,2,93,4,50,96]]\n",
    "\n",
    "list1 = [17, 2, 93, 4, 50, 96]\n",
    "list2 = [0, 1, 5, 13, 45, 92] \n",
    "list3 = [[0, 0, 0, 0]]  \n",
    "\n",
    "sorted_list2 = sorted(list2) \n",
    "\n",
    "list4 = [list3, [sorted_list2], list1]\n",
    "\n",
    "print(list4)"
   ]
  },
  {
   "cell_type": "code",
   "execution_count": 115,
   "id": "03c31f4d",
   "metadata": {},
   "outputs": [
    {
     "name": "stdout",
     "output_type": "stream",
     "text": [
      "[[[0, 0, 0, 0]], [0, 1, 5, 13, 45, 92], [17, 2, 93, 4, 50, 96]]\n"
     ]
    }
   ],
   "source": [
    "#Array form\n",
    "list1 = np.array([17, 2, 93, 4, 50, 96])\n",
    "list2 = np.array([0, 1, 5, 13, 45, 92])\n",
    "list3 = np.array([[0, 0, 0, 0]])  \n",
    "\n",
    "\n",
    "sorted_list2 = np.sort(list2) \n",
    "\n",
    "list4 = [list3.tolist(), sorted_list2.tolist(), list1.tolist()]  \n",
    "\n",
    "print(list4)"
   ]
  },
  {
   "cell_type": "code",
   "execution_count": null,
   "id": "800b9080",
   "metadata": {},
   "outputs": [],
   "source": []
  }
 ],
 "metadata": {
  "kernelspec": {
   "display_name": "Python 3 (ipykernel)",
   "language": "python",
   "name": "python3"
  },
  "language_info": {
   "codemirror_mode": {
    "name": "ipython",
    "version": 3
   },
   "file_extension": ".py",
   "mimetype": "text/x-python",
   "name": "python",
   "nbconvert_exporter": "python",
   "pygments_lexer": "ipython3",
   "version": "3.11.4"
  }
 },
 "nbformat": 4,
 "nbformat_minor": 5
}
