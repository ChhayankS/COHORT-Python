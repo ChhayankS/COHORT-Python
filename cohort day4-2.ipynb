{
 "cells": [
  {
   "cell_type": "code",
   "execution_count": 1,
   "id": "8d9553bb",
   "metadata": {},
   "outputs": [
    {
     "name": "stdout",
     "output_type": "stream",
     "text": [
      "Requirement already satisfied: numpy in ./anaconda3/lib/python3.11/site-packages (1.24.3)\n",
      "Note: you may need to restart the kernel to use updated packages.\n"
     ]
    }
   ],
   "source": [
    "pip install numpy"
   ]
  },
  {
   "cell_type": "code",
   "execution_count": 2,
   "id": "cd6ca375",
   "metadata": {},
   "outputs": [],
   "source": [
    "list = [[\"abc\",1,\"dsa\"],[\"abc\",2,\"dsa\"],[\"abc\",3,\"dsa\"],[\"abc\",4,\"dsa\"],[\"abc\",5,\"dsa\"],[\"abc\",6,\"dsa\"]]"
   ]
  },
  {
   "cell_type": "code",
   "execution_count": 3,
   "id": "b9c043ed",
   "metadata": {},
   "outputs": [],
   "source": [
    "import numpy"
   ]
  },
  {
   "cell_type": "code",
   "execution_count": 4,
   "id": "a015f5c5",
   "metadata": {},
   "outputs": [],
   "source": [
    "myarray = numpy.array(list)"
   ]
  },
  {
   "cell_type": "code",
   "execution_count": 5,
   "id": "3f0cba80",
   "metadata": {},
   "outputs": [
    {
     "name": "stdout",
     "output_type": "stream",
     "text": [
      "[['abc' '1' 'dsa']\n",
      " ['abc' '2' 'dsa']\n",
      " ['abc' '3' 'dsa']\n",
      " ['abc' '4' 'dsa']\n",
      " ['abc' '5' 'dsa']\n",
      " ['abc' '6' 'dsa']]\n"
     ]
    }
   ],
   "source": [
    "print(myarray)"
   ]
  },
  {
   "cell_type": "code",
   "execution_count": 6,
   "id": "c5a93775",
   "metadata": {},
   "outputs": [
    {
     "data": {
      "text/plain": [
       "numpy.ndarray"
      ]
     },
     "execution_count": 6,
     "metadata": {},
     "output_type": "execute_result"
    }
   ],
   "source": [
    "type(myarray)"
   ]
  },
  {
   "cell_type": "code",
   "execution_count": 7,
   "id": "043ba91e",
   "metadata": {},
   "outputs": [
    {
     "data": {
      "text/plain": [
       "['abc', 1, 'dsa']"
      ]
     },
     "execution_count": 7,
     "metadata": {},
     "output_type": "execute_result"
    }
   ],
   "source": [
    "list[0]"
   ]
  },
  {
   "cell_type": "code",
   "execution_count": 8,
   "id": "de76f20c",
   "metadata": {},
   "outputs": [
    {
     "data": {
      "text/plain": [
       "array(['abc', '1', 'dsa'], dtype='<U21')"
      ]
     },
     "execution_count": 8,
     "metadata": {},
     "output_type": "execute_result"
    }
   ],
   "source": [
    "myarray[0]"
   ]
  },
  {
   "cell_type": "code",
   "execution_count": 9,
   "id": "c1ed031f",
   "metadata": {},
   "outputs": [],
   "source": [
    "element1 = myarray[0]"
   ]
  },
  {
   "cell_type": "code",
   "execution_count": 10,
   "id": "00d6d8c9",
   "metadata": {},
   "outputs": [
    {
     "name": "stdout",
     "output_type": "stream",
     "text": [
      "['abc' '1' 'dsa']\n"
     ]
    }
   ],
   "source": [
    "print(element1)"
   ]
  },
  {
   "cell_type": "code",
   "execution_count": 11,
   "id": "c84d7f1d",
   "metadata": {},
   "outputs": [
    {
     "data": {
      "text/plain": [
       "array([['abc', '4', 'dsa'],\n",
       "       ['abc', '5', 'dsa'],\n",
       "       ['abc', '6', 'dsa']], dtype='<U21')"
      ]
     },
     "execution_count": 11,
     "metadata": {},
     "output_type": "execute_result"
    }
   ],
   "source": [
    "myarray[3:6]"
   ]
  },
  {
   "cell_type": "code",
   "execution_count": 12,
   "id": "1d1bdb8f",
   "metadata": {},
   "outputs": [
    {
     "data": {
      "text/plain": [
       "array([['abc', '3', 'dsa'],\n",
       "       ['abc', '4', 'dsa']], dtype='<U21')"
      ]
     },
     "execution_count": 12,
     "metadata": {},
     "output_type": "execute_result"
    }
   ],
   "source": [
    "myarray[2:4]"
   ]
  },
  {
   "cell_type": "code",
   "execution_count": 13,
   "id": "d2dbc254",
   "metadata": {},
   "outputs": [
    {
     "data": {
      "text/plain": [
       "array([['abc', '4', 'dsa'],\n",
       "       ['abc', '5', 'dsa'],\n",
       "       ['abc', '6', 'dsa']], dtype='<U21')"
      ]
     },
     "execution_count": 13,
     "metadata": {},
     "output_type": "execute_result"
    }
   ],
   "source": [
    "myarray[3:]"
   ]
  },
  {
   "cell_type": "code",
   "execution_count": 14,
   "id": "b53cdfad",
   "metadata": {},
   "outputs": [
    {
     "data": {
      "text/plain": [
       "array([['abc', '1', 'dsa'],\n",
       "       ['abc', '2', 'dsa'],\n",
       "       ['abc', '3', 'dsa']], dtype='<U21')"
      ]
     },
     "execution_count": 14,
     "metadata": {},
     "output_type": "execute_result"
    }
   ],
   "source": [
    "myarray[:3]"
   ]
  },
  {
   "cell_type": "code",
   "execution_count": 15,
   "id": "927fef2b",
   "metadata": {},
   "outputs": [
    {
     "data": {
      "text/plain": [
       "array([['abc', '1', 'dsa'],\n",
       "       ['abc', '2', 'dsa'],\n",
       "       ['abc', '3', 'dsa'],\n",
       "       ['abc', '4', 'dsa'],\n",
       "       ['abc', '5', 'dsa'],\n",
       "       ['abc', '6', 'dsa']], dtype='<U21')"
      ]
     },
     "execution_count": 15,
     "metadata": {},
     "output_type": "execute_result"
    }
   ],
   "source": [
    "myarray[:]"
   ]
  },
  {
   "cell_type": "code",
   "execution_count": 16,
   "id": "c72598df",
   "metadata": {},
   "outputs": [
    {
     "data": {
      "text/plain": [
       "array(['abc', 'abc', 'abc', 'abc', 'abc', 'abc'], dtype='<U21')"
      ]
     },
     "execution_count": 16,
     "metadata": {},
     "output_type": "execute_result"
    }
   ],
   "source": [
    "myarray[: ,0 ]"
   ]
  },
  {
   "cell_type": "code",
   "execution_count": 17,
   "id": "fe1cf06c",
   "metadata": {},
   "outputs": [
    {
     "data": {
      "text/plain": [
       "array(['1', '2', '3', '4', '5', '6'], dtype='<U21')"
      ]
     },
     "execution_count": 17,
     "metadata": {},
     "output_type": "execute_result"
    }
   ],
   "source": [
    "myarray[: , 1]"
   ]
  },
  {
   "cell_type": "code",
   "execution_count": 18,
   "id": "8fbd1365",
   "metadata": {
    "scrolled": true
   },
   "outputs": [
    {
     "data": {
      "text/plain": [
       "array([['1', 'dsa'],\n",
       "       ['2', 'dsa'],\n",
       "       ['3', 'dsa'],\n",
       "       ['4', 'dsa'],\n",
       "       ['5', 'dsa'],\n",
       "       ['6', 'dsa']], dtype='<U21')"
      ]
     },
     "execution_count": 18,
     "metadata": {},
     "output_type": "execute_result"
    }
   ],
   "source": [
    "myarray[: , 1:3]"
   ]
  },
  {
   "cell_type": "code",
   "execution_count": 19,
   "id": "27dd6b49",
   "metadata": {},
   "outputs": [
    {
     "data": {
      "text/plain": [
       "array([['abc', '2', 'dsa'],\n",
       "       ['abc', '3', 'dsa'],\n",
       "       ['abc', '4', 'dsa'],\n",
       "       ['abc', '5', 'dsa'],\n",
       "       ['abc', '6', 'dsa']], dtype='<U21')"
      ]
     },
     "execution_count": 19,
     "metadata": {},
     "output_type": "execute_result"
    }
   ],
   "source": [
    "myarray[1:6]"
   ]
  },
  {
   "cell_type": "code",
   "execution_count": 20,
   "id": "56f17533",
   "metadata": {},
   "outputs": [
    {
     "data": {
      "text/plain": [
       "array([['3', 'dsa'],\n",
       "       ['4', 'dsa'],\n",
       "       ['5', 'dsa'],\n",
       "       ['6', 'dsa']], dtype='<U21')"
      ]
     },
     "execution_count": 20,
     "metadata": {},
     "output_type": "execute_result"
    }
   ],
   "source": [
    "myarray[2:6 , 1:3]"
   ]
  },
  {
   "cell_type": "code",
   "execution_count": 25,
   "id": "3850a49a",
   "metadata": {},
   "outputs": [],
   "source": [
    "mystring= \"hi, i'm chhayank\""
   ]
  },
  {
   "cell_type": "code",
   "execution_count": 26,
   "id": "115d48bd",
   "metadata": {},
   "outputs": [
    {
     "data": {
      "text/plain": [
       "'h'"
      ]
     },
     "execution_count": 26,
     "metadata": {},
     "output_type": "execute_result"
    }
   ],
   "source": [
    "mystring[0]"
   ]
  },
  {
   "cell_type": "code",
   "execution_count": 27,
   "id": "fe0f9c91",
   "metadata": {},
   "outputs": [
    {
     "data": {
      "text/plain": [
       "\"hi, i'\""
      ]
     },
     "execution_count": 27,
     "metadata": {},
     "output_type": "execute_result"
    }
   ],
   "source": [
    "mystring[:6]"
   ]
  },
  {
   "cell_type": "code",
   "execution_count": 28,
   "id": "fd516d98",
   "metadata": {},
   "outputs": [
    {
     "data": {
      "text/plain": [
       "\" i'm chhayank\""
      ]
     },
     "execution_count": 28,
     "metadata": {},
     "output_type": "execute_result"
    }
   ],
   "source": [
    "mystring[3:]"
   ]
  }
 ],
 "metadata": {
  "kernelspec": {
   "display_name": "Python 3 (ipykernel)",
   "language": "python",
   "name": "python3"
  },
  "language_info": {
   "codemirror_mode": {
    "name": "ipython",
    "version": 3
   },
   "file_extension": ".py",
   "mimetype": "text/x-python",
   "name": "python",
   "nbconvert_exporter": "python",
   "pygments_lexer": "ipython3",
   "version": "3.11.4"
  }
 },
 "nbformat": 4,
 "nbformat_minor": 5
}
